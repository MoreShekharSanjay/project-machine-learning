{
 "cells": [
  {
   "cell_type": "markdown",
   "id": "5dc08059",
   "metadata": {},
   "source": [
    "# <center>Credit Card Fraud Prediction</center>\n",
    "<br><center>Dataset source: https://www.kaggle.com/datasets/mlg-ulb/creditcardfraud</center>\n",
    "<br><center>We will use PySpark API and MLlib library for predicting fraudulent credit card transactions.</center>\n",
    "<br><center>Class 1 denotes frauds and Class 0 denotes normal transactions.</center>"
   ]
  },
  {
   "cell_type": "markdown",
   "id": "9d7038a0",
   "metadata": {},
   "source": [
    "## Create Spark session"
   ]
  },
  {
   "cell_type": "code",
   "execution_count": 37,
   "id": "366c2174",
   "metadata": {},
   "outputs": [],
   "source": [
    "import findspark\n",
    "findspark.init('/home/shekhar/spark-3.2.1-bin-hadoop2.7')\n",
    "import pyspark\n",
    "from pyspark.sql import SparkSession"
   ]
  },
  {
   "cell_type": "code",
   "execution_count": 38,
   "id": "25dc8026",
   "metadata": {},
   "outputs": [],
   "source": [
    "spark = SparkSession.builder.appName('cred').getOrCreate()"
   ]
  },
  {
   "cell_type": "markdown",
   "id": "c352d476",
   "metadata": {},
   "source": [
    "## Read and format the data"
   ]
  },
  {
   "cell_type": "code",
   "execution_count": 39,
   "id": "4b3982a2",
   "metadata": {
    "scrolled": true
   },
   "outputs": [
    {
     "name": "stderr",
     "output_type": "stream",
     "text": [
      "\r",
      "[Stage 156:=========>                                               (1 + 5) / 6]\r",
      "\r",
      "                                                                                \r"
     ]
    }
   ],
   "source": [
    "df = spark.read.csv('creditcard.csv',inferSchema=True,header=True)"
   ]
  },
  {
   "cell_type": "code",
   "execution_count": 40,
   "id": "0612cc7b",
   "metadata": {},
   "outputs": [
    {
     "data": {
      "text/plain": [
       "['Time',\n",
       " 'V1',\n",
       " 'V2',\n",
       " 'V3',\n",
       " 'V4',\n",
       " 'V5',\n",
       " 'V6',\n",
       " 'V7',\n",
       " 'V8',\n",
       " 'V9',\n",
       " 'V10',\n",
       " 'V11',\n",
       " 'V12',\n",
       " 'V13',\n",
       " 'V14',\n",
       " 'V15',\n",
       " 'V16',\n",
       " 'V17',\n",
       " 'V18',\n",
       " 'V19',\n",
       " 'V20',\n",
       " 'V21',\n",
       " 'V22',\n",
       " 'V23',\n",
       " 'V24',\n",
       " 'V25',\n",
       " 'V26',\n",
       " 'V27',\n",
       " 'V28',\n",
       " 'Amount',\n",
       " 'Class']"
      ]
     },
     "execution_count": 40,
     "metadata": {},
     "output_type": "execute_result"
    }
   ],
   "source": [
    "df.columns"
   ]
  },
  {
   "cell_type": "code",
   "execution_count": 11,
   "id": "d04fb0f6",
   "metadata": {},
   "outputs": [],
   "source": [
    "from pyspark.sql.functions import col\n",
    "df = df.drop(col(\"time\"))"
   ]
  },
  {
   "cell_type": "code",
   "execution_count": 12,
   "id": "b9737bde",
   "metadata": {},
   "outputs": [
    {
     "data": {
      "text/plain": [
       "[Row(V1=-1.3598071336738, V2=-0.0727811733098497, V3=2.53634673796914, V4=1.37815522427443, V5=-0.338320769942518, V6=0.462387777762292, V7=0.239598554061257, V8=0.0986979012610507, V9=0.363786969611213, V10=0.0907941719789316, V11=-0.551599533260813, V12=-0.617800855762348, V13=-0.991389847235408, V14=-0.311169353699879, V15=1.46817697209427, V16=-0.470400525259478, V17=0.207971241929242, V18=0.0257905801985591, V19=0.403992960255733, V20=0.251412098239705, V21=-0.018306777944153, V22=0.277837575558899, V23=-0.110473910188767, V24=0.0669280749146731, V25=0.128539358273528, V26=-0.189114843888824, V27=0.133558376740387, V28=-0.0210530534538215, Amount=149.62, Class=0)]"
      ]
     },
     "execution_count": 12,
     "metadata": {},
     "output_type": "execute_result"
    }
   ],
   "source": [
    "df.head(1)"
   ]
  },
  {
   "cell_type": "code",
   "execution_count": 13,
   "id": "c8984885",
   "metadata": {},
   "outputs": [
    {
     "name": "stderr",
     "output_type": "stream",
     "text": [
      "[Stage 12:================================================>         (5 + 1) / 6]\r"
     ]
    },
    {
     "name": "stdout",
     "output_type": "stream",
     "text": [
      "+-------+------------------+--------------------+\n",
      "|summary|            Amount|               Class|\n",
      "+-------+------------------+--------------------+\n",
      "|  count|            284807|              284807|\n",
      "|   mean| 88.34961925094233|0.001727485630620034|\n",
      "| stddev|250.12010924018833| 0.04152718963546499|\n",
      "|    min|               0.0|                   0|\n",
      "|    max|          25691.16|                   1|\n",
      "+-------+------------------+--------------------+\n",
      "\n"
     ]
    },
    {
     "name": "stderr",
     "output_type": "stream",
     "text": [
      "\r",
      "                                                                                \r"
     ]
    }
   ],
   "source": [
    "df.describe().select(['summary','Amount','Class']).show()"
   ]
  },
  {
   "cell_type": "markdown",
   "id": "36478b12",
   "metadata": {},
   "source": [
    "## MLlib Logistic Regression"
   ]
  },
  {
   "cell_type": "code",
   "execution_count": 14,
   "id": "1a2ed285",
   "metadata": {},
   "outputs": [],
   "source": [
    "from pyspark.ml.feature import VectorAssembler"
   ]
  },
  {
   "cell_type": "code",
   "execution_count": 17,
   "id": "1fa8ef3c",
   "metadata": {},
   "outputs": [],
   "source": [
    "assembler = VectorAssembler(inputCols=df.columns[:-1], outputCol='features')"
   ]
  },
  {
   "cell_type": "code",
   "execution_count": 18,
   "id": "6527e005",
   "metadata": {},
   "outputs": [],
   "source": [
    "from pyspark.ml.classification import LogisticRegression"
   ]
  },
  {
   "cell_type": "code",
   "execution_count": 19,
   "id": "1c3f2b55",
   "metadata": {},
   "outputs": [],
   "source": [
    "lr = LogisticRegression(featuresCol='features',labelCol='Class')"
   ]
  },
  {
   "cell_type": "code",
   "execution_count": 21,
   "id": "e71817ed",
   "metadata": {},
   "outputs": [],
   "source": [
    "final_data = assembler.transform(df).select(\"features\",\"Class\")"
   ]
  },
  {
   "cell_type": "code",
   "execution_count": 22,
   "id": "b5ecd75e",
   "metadata": {},
   "outputs": [
    {
     "name": "stdout",
     "output_type": "stream",
     "text": [
      "+--------------------+-----+\n",
      "|            features|Class|\n",
      "+--------------------+-----+\n",
      "|[-1.3598071336738...|    0|\n",
      "|[1.19185711131486...|    0|\n",
      "|[-1.3583540615982...|    0|\n",
      "|[-0.9662717115720...|    0|\n",
      "|[-1.1582330934952...|    0|\n",
      "|[-0.4259658844124...|    0|\n",
      "|[1.22965763450793...|    0|\n",
      "|[-0.6442694423481...|    0|\n",
      "|[-0.8942860822028...|    0|\n",
      "|[-0.3382617524257...|    0|\n",
      "|[1.44904378114715...|    0|\n",
      "|[0.38497821518095...|    0|\n",
      "|[1.249998742053,-...|    0|\n",
      "|[1.0693735878819,...|    0|\n",
      "|[-2.7918547659339...|    0|\n",
      "|[-0.7524170429566...|    0|\n",
      "|[1.10321543528383...|    0|\n",
      "|[-0.4369050713606...|    0|\n",
      "|[-5.4012576631582...|    0|\n",
      "|[1.4929359769862,...|    0|\n",
      "+--------------------+-----+\n",
      "only showing top 20 rows\n",
      "\n"
     ]
    }
   ],
   "source": [
    "final_data.show()"
   ]
  },
  {
   "cell_type": "code",
   "execution_count": 23,
   "id": "66ae12e5",
   "metadata": {},
   "outputs": [],
   "source": [
    "train_data,test_data = final_data.randomSplit([0.7,0.3])"
   ]
  },
  {
   "cell_type": "code",
   "execution_count": 24,
   "id": "766df358",
   "metadata": {},
   "outputs": [
    {
     "name": "stderr",
     "output_type": "stream",
     "text": [
      "[Stage 16:=========>                                                (1 + 5) / 6]\r"
     ]
    },
    {
     "name": "stdout",
     "output_type": "stream",
     "text": [
      "+-------+--------------------+\n",
      "|summary|               Class|\n",
      "+-------+--------------------+\n",
      "|  count|              199428|\n",
      "|   mean|0.001750005014341...|\n",
      "| stddev| 0.04179654598887494|\n",
      "|    min|                   0|\n",
      "|    max|                   1|\n",
      "+-------+--------------------+\n",
      "\n"
     ]
    },
    {
     "name": "stderr",
     "output_type": "stream",
     "text": [
      "\r",
      "                                                                                \r"
     ]
    }
   ],
   "source": [
    "train_data.describe().show()"
   ]
  },
  {
   "cell_type": "code",
   "execution_count": 25,
   "id": "cf5d501b",
   "metadata": {},
   "outputs": [
    {
     "name": "stderr",
     "output_type": "stream",
     "text": [
      "\r",
      "[Stage 19:>                                                         (0 + 6) / 6]\r"
     ]
    },
    {
     "name": "stdout",
     "output_type": "stream",
     "text": [
      "+-------+--------------------+\n",
      "|summary|               Class|\n",
      "+-------+--------------------+\n",
      "|  count|               85379|\n",
      "|   mean|0.001674884924864428|\n",
      "| stddev|0.040891310443485096|\n",
      "|    min|                   0|\n",
      "|    max|                   1|\n",
      "+-------+--------------------+\n",
      "\n"
     ]
    },
    {
     "name": "stderr",
     "output_type": "stream",
     "text": [
      "\r",
      "[Stage 19:=============================>                            (3 + 3) / 6]\r",
      "\r",
      "                                                                                \r"
     ]
    }
   ],
   "source": [
    "test_data.describe().show()"
   ]
  },
  {
   "cell_type": "code",
   "execution_count": 26,
   "id": "4953a486",
   "metadata": {},
   "outputs": [
    {
     "name": "stderr",
     "output_type": "stream",
     "text": [
      "22/05/24 10:16:23 WARN InstanceBuilder$NativeBLAS: Failed to load implementation from:dev.ludovic.netlib.blas.JNIBLAS\n",
      "22/05/24 10:16:23 WARN InstanceBuilder$NativeBLAS: Failed to load implementation from:dev.ludovic.netlib.blas.ForeignLinkerBLAS\n",
      "                                                                                \r"
     ]
    }
   ],
   "source": [
    "lrModel = lr.fit(train_data)"
   ]
  },
  {
   "cell_type": "code",
   "execution_count": 27,
   "id": "76ef8a59",
   "metadata": {},
   "outputs": [
    {
     "name": "stderr",
     "output_type": "stream",
     "text": [
      "/home/shekhar/spark-3.2.1-bin-hadoop2.7/python/pyspark/sql/context.py:125: FutureWarning: Deprecated in 3.0.0. Use SparkSession.builder.getOrCreate() instead.\n",
      "  warnings.warn(\n"
     ]
    },
    {
     "name": "stdout",
     "output_type": "stream",
     "text": [
      "+--------------------+-----+--------------------+--------------------+----------+\n",
      "|            features|Class|       rawPrediction|         probability|prediction|\n",
      "+--------------------+-----+--------------------+--------------------+----------+\n",
      "|[-56.407509631329...|  0.0|[9.52387236537979...|[0.99992691924159...|       0.0|\n",
      "|[-32.962809811697...|  0.0|[5.05457448802386...|[0.99366036639015...|       0.0|\n",
      "|[-32.273469750819...|  0.0|[4.65184777410612...|[0.99054627531802...|       0.0|\n",
      "|[-31.746662562458...|  0.0|[4.25224378785582...|[0.98596745106469...|       0.0|\n",
      "|[-29.876365513976...|  1.0|[3.57277903953836...|[0.97268911130478...|       0.0|\n",
      "|[-29.200328590574...|  1.0|[3.15262851033074...|[0.95901216758645...|       0.0|\n",
      "|[-28.524267593840...|  1.0|[2.73247623434137...|[0.93891601044362...|       0.0|\n",
      "|[-28.344757250015...|  0.0|[4.76840743870144...|[0.99157764218996...|       0.0|\n",
      "|[-27.670568881696...|  0.0|[4.60639697071819...|[0.99011102879541...|       0.0|\n",
      "|[-27.143678422949...|  1.0|[1.91119693901347...|[0.87115355801229...|       0.0|\n",
      "|[-26.619952145208...|  0.0|[1.51354390705737...|[0.81958581994210...|       0.0|\n",
      "|[-25.942434447914...|  1.0|[1.05509553187493...|[0.74175218004675...|       0.0|\n",
      "|[-25.266355019413...|  1.0|[0.63494191846064...|[0.65360918111124...|       0.0|\n",
      "|[-24.743105349012...|  0.0|[6.31563861337997...|[0.99819545138300...|       0.0|\n",
      "|[-24.465548667359...|  0.0|[5.74372466481173...|[0.99680740867172...|       0.0|\n",
      "|[-23.914100894824...|  1.0|[-0.2053722210663...|[0.44883664803233...|       1.0|\n",
      "|[-23.420358814350...|  0.0|[5.52989428334386...|[0.99604926185852...|       0.0|\n",
      "|[-23.383128541750...|  0.0|[7.31138728345958...|[0.99933255592260...|       0.0|\n",
      "|[-23.066841657925...|  0.0|[10.7490094863639...|[0.99997853379999...|       0.0|\n",
      "|[-22.561699259129...|  1.0|[-1.0456970641265...|[0.26005223828261...|       1.0|\n",
      "+--------------------+-----+--------------------+--------------------+----------+\n",
      "only showing top 20 rows\n",
      "\n"
     ]
    },
    {
     "name": "stderr",
     "output_type": "stream",
     "text": [
      "\r",
      "[Stage 142:>                                                        (0 + 1) / 1]\r",
      "\r",
      "                                                                                \r"
     ]
    }
   ],
   "source": [
    "trainingSummary = lrModel.summary\n",
    "trainingSummary.predictions.show()"
   ]
  },
  {
   "cell_type": "code",
   "execution_count": 29,
   "id": "52b02e82",
   "metadata": {},
   "outputs": [],
   "source": [
    "results = lrModel.transform(test_data)"
   ]
  },
  {
   "cell_type": "code",
   "execution_count": 30,
   "id": "e980cbbe",
   "metadata": {},
   "outputs": [],
   "source": [
    "from pyspark.ml.evaluation import BinaryClassificationEvaluator"
   ]
  },
  {
   "cell_type": "code",
   "execution_count": 31,
   "id": "746961a5",
   "metadata": {},
   "outputs": [],
   "source": [
    "my_eval = BinaryClassificationEvaluator(rawPredictionCol='prediction',\n",
    "                                       labelCol='Class')"
   ]
  },
  {
   "cell_type": "code",
   "execution_count": 32,
   "id": "eb7cee13",
   "metadata": {},
   "outputs": [
    {
     "name": "stdout",
     "output_type": "stream",
     "text": [
      "+-----+----------+\n",
      "|Class|prediction|\n",
      "+-----+----------+\n",
      "|    1|       0.0|\n",
      "|    1|       0.0|\n",
      "|    0|       0.0|\n",
      "|    1|       0.0|\n",
      "|    0|       0.0|\n",
      "|    1|       1.0|\n",
      "|    1|       1.0|\n",
      "|    0|       0.0|\n",
      "|    1|       1.0|\n",
      "|    1|       1.0|\n",
      "|    0|       0.0|\n",
      "|    0|       0.0|\n",
      "|    0|       0.0|\n",
      "|    1|       1.0|\n",
      "|    1|       1.0|\n",
      "|    1|       1.0|\n",
      "|    0|       0.0|\n",
      "|    0|       0.0|\n",
      "|    0|       0.0|\n",
      "|    0|       0.0|\n",
      "+-----+----------+\n",
      "only showing top 20 rows\n",
      "\n"
     ]
    }
   ],
   "source": [
    "results.select('Class','prediction').show()"
   ]
  },
  {
   "cell_type": "code",
   "execution_count": 33,
   "id": "e1630b61",
   "metadata": {},
   "outputs": [
    {
     "name": "stderr",
     "output_type": "stream",
     "text": [
      "                                                                                \r"
     ]
    }
   ],
   "source": [
    "AUC = my_eval.evaluate(results)"
   ]
  },
  {
   "cell_type": "code",
   "execution_count": 36,
   "id": "aee88ea6",
   "metadata": {},
   "outputs": [
    {
     "data": {
      "text/plain": [
       "0.8111008201990885"
      ]
     },
     "execution_count": 36,
     "metadata": {},
     "output_type": "execute_result"
    }
   ],
   "source": [
    "AUC"
   ]
  },
  {
   "cell_type": "markdown",
   "id": "278dad38",
   "metadata": {},
   "source": [
    "### We have achieved an AUC score of 81.1% on the testing data.<br>This shows the ability of our model in separating the frauds and normal transactions."
   ]
  },
  {
   "cell_type": "code",
   "execution_count": null,
   "id": "be6f0f2b",
   "metadata": {},
   "outputs": [],
   "source": []
  }
 ],
 "metadata": {
  "kernelspec": {
   "display_name": "Python 3 (ipykernel)",
   "language": "python",
   "name": "python3"
  },
  "language_info": {
   "codemirror_mode": {
    "name": "ipython",
    "version": 3
   },
   "file_extension": ".py",
   "mimetype": "text/x-python",
   "name": "python",
   "nbconvert_exporter": "python",
   "pygments_lexer": "ipython3",
   "version": "3.10.4"
  }
 },
 "nbformat": 4,
 "nbformat_minor": 5
}
